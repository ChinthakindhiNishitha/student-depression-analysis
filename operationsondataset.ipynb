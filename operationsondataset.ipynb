{
 "cells": [
  {
   "cell_type": "code",
   "execution_count": 1,
   "id": "1ea0bf13-3f3b-4d5e-9692-8277fd1180ef",
   "metadata": {},
   "outputs": [],
   "source": [
    "import zipfile\n",
    "\n",
    "with zipfile.ZipFile(\"student-depression-dataset.zip\", \"r\") as zip_ref:\n",
    "    zip_ref.extractall(\"student_depression\")\n"
   ]
  },
  {
   "cell_type": "code",
   "execution_count": 2,
   "id": "742a9e06-db27-4cbf-b8bd-409faae592ab",
   "metadata": {},
   "outputs": [
    {
     "name": "stdout",
     "output_type": "stream",
     "text": [
      "['Student Depression Dataset.csv']\n"
     ]
    }
   ],
   "source": [
    "import os\n",
    "print(os.listdir(\"student_depression\"))\n"
   ]
  },
  {
   "cell_type": "code",
   "execution_count": 4,
   "id": "96c4cc6b-3dd5-4a3c-b44f-cc4a11c60448",
   "metadata": {},
   "outputs": [
    {
     "data": {
      "text/html": [
       "<div>\n",
       "<style scoped>\n",
       "    .dataframe tbody tr th:only-of-type {\n",
       "        vertical-align: middle;\n",
       "    }\n",
       "\n",
       "    .dataframe tbody tr th {\n",
       "        vertical-align: top;\n",
       "    }\n",
       "\n",
       "    .dataframe thead th {\n",
       "        text-align: right;\n",
       "    }\n",
       "</style>\n",
       "<table border=\"1\" class=\"dataframe\">\n",
       "  <thead>\n",
       "    <tr style=\"text-align: right;\">\n",
       "      <th></th>\n",
       "      <th>id</th>\n",
       "      <th>Gender</th>\n",
       "      <th>Age</th>\n",
       "      <th>City</th>\n",
       "      <th>Profession</th>\n",
       "      <th>Academic Pressure</th>\n",
       "      <th>Work Pressure</th>\n",
       "      <th>CGPA</th>\n",
       "      <th>Study Satisfaction</th>\n",
       "      <th>Job Satisfaction</th>\n",
       "      <th>Sleep Duration</th>\n",
       "      <th>Dietary Habits</th>\n",
       "      <th>Degree</th>\n",
       "      <th>Have you ever had suicidal thoughts ?</th>\n",
       "      <th>Work/Study Hours</th>\n",
       "      <th>Financial Stress</th>\n",
       "      <th>Family History of Mental Illness</th>\n",
       "      <th>Depression</th>\n",
       "    </tr>\n",
       "  </thead>\n",
       "  <tbody>\n",
       "    <tr>\n",
       "      <th>0</th>\n",
       "      <td>2</td>\n",
       "      <td>Male</td>\n",
       "      <td>33.0</td>\n",
       "      <td>Visakhapatnam</td>\n",
       "      <td>Student</td>\n",
       "      <td>5.0</td>\n",
       "      <td>0.0</td>\n",
       "      <td>8.97</td>\n",
       "      <td>2.0</td>\n",
       "      <td>0.0</td>\n",
       "      <td>5-6 hours</td>\n",
       "      <td>Healthy</td>\n",
       "      <td>B.Pharm</td>\n",
       "      <td>Yes</td>\n",
       "      <td>3.0</td>\n",
       "      <td>1.0</td>\n",
       "      <td>No</td>\n",
       "      <td>1</td>\n",
       "    </tr>\n",
       "    <tr>\n",
       "      <th>1</th>\n",
       "      <td>8</td>\n",
       "      <td>Female</td>\n",
       "      <td>24.0</td>\n",
       "      <td>Bangalore</td>\n",
       "      <td>Student</td>\n",
       "      <td>2.0</td>\n",
       "      <td>0.0</td>\n",
       "      <td>5.90</td>\n",
       "      <td>5.0</td>\n",
       "      <td>0.0</td>\n",
       "      <td>5-6 hours</td>\n",
       "      <td>Moderate</td>\n",
       "      <td>BSc</td>\n",
       "      <td>No</td>\n",
       "      <td>3.0</td>\n",
       "      <td>2.0</td>\n",
       "      <td>Yes</td>\n",
       "      <td>0</td>\n",
       "    </tr>\n",
       "    <tr>\n",
       "      <th>2</th>\n",
       "      <td>26</td>\n",
       "      <td>Male</td>\n",
       "      <td>31.0</td>\n",
       "      <td>Srinagar</td>\n",
       "      <td>Student</td>\n",
       "      <td>3.0</td>\n",
       "      <td>0.0</td>\n",
       "      <td>7.03</td>\n",
       "      <td>5.0</td>\n",
       "      <td>0.0</td>\n",
       "      <td>Less than 5 hours</td>\n",
       "      <td>Healthy</td>\n",
       "      <td>BA</td>\n",
       "      <td>No</td>\n",
       "      <td>9.0</td>\n",
       "      <td>1.0</td>\n",
       "      <td>Yes</td>\n",
       "      <td>0</td>\n",
       "    </tr>\n",
       "    <tr>\n",
       "      <th>3</th>\n",
       "      <td>30</td>\n",
       "      <td>Female</td>\n",
       "      <td>28.0</td>\n",
       "      <td>Varanasi</td>\n",
       "      <td>Student</td>\n",
       "      <td>3.0</td>\n",
       "      <td>0.0</td>\n",
       "      <td>5.59</td>\n",
       "      <td>2.0</td>\n",
       "      <td>0.0</td>\n",
       "      <td>7-8 hours</td>\n",
       "      <td>Moderate</td>\n",
       "      <td>BCA</td>\n",
       "      <td>Yes</td>\n",
       "      <td>4.0</td>\n",
       "      <td>5.0</td>\n",
       "      <td>Yes</td>\n",
       "      <td>1</td>\n",
       "    </tr>\n",
       "    <tr>\n",
       "      <th>4</th>\n",
       "      <td>32</td>\n",
       "      <td>Female</td>\n",
       "      <td>25.0</td>\n",
       "      <td>Jaipur</td>\n",
       "      <td>Student</td>\n",
       "      <td>4.0</td>\n",
       "      <td>0.0</td>\n",
       "      <td>8.13</td>\n",
       "      <td>3.0</td>\n",
       "      <td>0.0</td>\n",
       "      <td>5-6 hours</td>\n",
       "      <td>Moderate</td>\n",
       "      <td>M.Tech</td>\n",
       "      <td>Yes</td>\n",
       "      <td>1.0</td>\n",
       "      <td>1.0</td>\n",
       "      <td>No</td>\n",
       "      <td>0</td>\n",
       "    </tr>\n",
       "  </tbody>\n",
       "</table>\n",
       "</div>"
      ],
      "text/plain": [
       "   id  Gender   Age           City Profession  Academic Pressure  \\\n",
       "0   2    Male  33.0  Visakhapatnam    Student                5.0   \n",
       "1   8  Female  24.0      Bangalore    Student                2.0   \n",
       "2  26    Male  31.0       Srinagar    Student                3.0   \n",
       "3  30  Female  28.0       Varanasi    Student                3.0   \n",
       "4  32  Female  25.0         Jaipur    Student                4.0   \n",
       "\n",
       "   Work Pressure  CGPA  Study Satisfaction  Job Satisfaction  \\\n",
       "0            0.0  8.97                 2.0               0.0   \n",
       "1            0.0  5.90                 5.0               0.0   \n",
       "2            0.0  7.03                 5.0               0.0   \n",
       "3            0.0  5.59                 2.0               0.0   \n",
       "4            0.0  8.13                 3.0               0.0   \n",
       "\n",
       "      Sleep Duration Dietary Habits   Degree  \\\n",
       "0          5-6 hours        Healthy  B.Pharm   \n",
       "1          5-6 hours       Moderate      BSc   \n",
       "2  Less than 5 hours        Healthy       BA   \n",
       "3          7-8 hours       Moderate      BCA   \n",
       "4          5-6 hours       Moderate   M.Tech   \n",
       "\n",
       "  Have you ever had suicidal thoughts ?  Work/Study Hours  Financial Stress  \\\n",
       "0                                   Yes               3.0               1.0   \n",
       "1                                    No               3.0               2.0   \n",
       "2                                    No               9.0               1.0   \n",
       "3                                   Yes               4.0               5.0   \n",
       "4                                   Yes               1.0               1.0   \n",
       "\n",
       "  Family History of Mental Illness  Depression  \n",
       "0                               No           1  \n",
       "1                              Yes           0  \n",
       "2                              Yes           0  \n",
       "3                              Yes           1  \n",
       "4                               No           0  "
      ]
     },
     "execution_count": 4,
     "metadata": {},
     "output_type": "execute_result"
    }
   ],
   "source": [
    "import pandas as pd\n",
    "\n",
    "df = pd.read_csv(\"student_depression/Student Depression Dataset.csv\")\n",
    "df.head()\n"
   ]
  },
  {
   "cell_type": "code",
   "execution_count": 5,
   "id": "d7d64c55-a918-4968-9e70-2add77dbb7d6",
   "metadata": {},
   "outputs": [
    {
     "name": "stdout",
     "output_type": "stream",
     "text": [
      "(27901, 18)\n"
     ]
    }
   ],
   "source": [
    "import numpy as np\n",
    "\n",
    "data = df.to_numpy()\n",
    "print(data.shape)  # See the shape: (rows, columns)\n"
   ]
  },
  {
   "cell_type": "code",
   "execution_count": 6,
   "id": "33dde210-7e4b-47b1-8cf4-46c8f13a1fd1",
   "metadata": {},
   "outputs": [
    {
     "name": "stdout",
     "output_type": "stream",
     "text": [
      "<class 'pandas.core.frame.DataFrame'>\n",
      "RangeIndex: 27901 entries, 0 to 27900\n",
      "Data columns (total 18 columns):\n",
      " #   Column                                 Non-Null Count  Dtype  \n",
      "---  ------                                 --------------  -----  \n",
      " 0   id                                     27901 non-null  int64  \n",
      " 1   Gender                                 27901 non-null  object \n",
      " 2   Age                                    27901 non-null  float64\n",
      " 3   City                                   27901 non-null  object \n",
      " 4   Profession                             27901 non-null  object \n",
      " 5   Academic Pressure                      27901 non-null  float64\n",
      " 6   Work Pressure                          27901 non-null  float64\n",
      " 7   CGPA                                   27901 non-null  float64\n",
      " 8   Study Satisfaction                     27901 non-null  float64\n",
      " 9   Job Satisfaction                       27901 non-null  float64\n",
      " 10  Sleep Duration                         27901 non-null  object \n",
      " 11  Dietary Habits                         27901 non-null  object \n",
      " 12  Degree                                 27901 non-null  object \n",
      " 13  Have you ever had suicidal thoughts ?  27901 non-null  object \n",
      " 14  Work/Study Hours                       27901 non-null  float64\n",
      " 15  Financial Stress                       27898 non-null  float64\n",
      " 16  Family History of Mental Illness       27901 non-null  object \n",
      " 17  Depression                             27901 non-null  int64  \n",
      "dtypes: float64(8), int64(2), object(8)\n",
      "memory usage: 3.8+ MB\n",
      "None\n"
     ]
    }
   ],
   "source": [
    "print(df.info())"
   ]
  },
  {
   "cell_type": "code",
   "execution_count": 7,
   "id": "6a68e453-8031-4e1f-a2aa-e8ff311ff477",
   "metadata": {},
   "outputs": [
    {
     "data": {
      "text/plain": [
       "Index(['id', 'Gender', 'Age', 'City', 'Profession', 'Academic Pressure',\n",
       "       'Work Pressure', 'CGPA', 'Study Satisfaction', 'Job Satisfaction',\n",
       "       'Sleep Duration', 'Dietary Habits', 'Degree',\n",
       "       'Have you ever had suicidal thoughts ?', 'Work/Study Hours',\n",
       "       'Financial Stress', 'Family History of Mental Illness', 'Depression'],\n",
       "      dtype='object')"
      ]
     },
     "execution_count": 7,
     "metadata": {},
     "output_type": "execute_result"
    }
   ],
   "source": [
    "df.columns\n"
   ]
  },
  {
   "cell_type": "code",
   "execution_count": 8,
   "id": "786f5140-e3e6-48eb-b96c-34b6e532cff0",
   "metadata": {},
   "outputs": [
    {
     "data": {
      "text/html": [
       "<div>\n",
       "<style scoped>\n",
       "    .dataframe tbody tr th:only-of-type {\n",
       "        vertical-align: middle;\n",
       "    }\n",
       "\n",
       "    .dataframe tbody tr th {\n",
       "        vertical-align: top;\n",
       "    }\n",
       "\n",
       "    .dataframe thead th {\n",
       "        text-align: right;\n",
       "    }\n",
       "</style>\n",
       "<table border=\"1\" class=\"dataframe\">\n",
       "  <thead>\n",
       "    <tr style=\"text-align: right;\">\n",
       "      <th></th>\n",
       "      <th>id</th>\n",
       "      <th>Age</th>\n",
       "      <th>Academic Pressure</th>\n",
       "      <th>Work Pressure</th>\n",
       "      <th>CGPA</th>\n",
       "      <th>Study Satisfaction</th>\n",
       "      <th>Job Satisfaction</th>\n",
       "      <th>Work/Study Hours</th>\n",
       "      <th>Financial Stress</th>\n",
       "      <th>Depression</th>\n",
       "    </tr>\n",
       "  </thead>\n",
       "  <tbody>\n",
       "    <tr>\n",
       "      <th>count</th>\n",
       "      <td>27901.000000</td>\n",
       "      <td>27901.000000</td>\n",
       "      <td>27901.000000</td>\n",
       "      <td>27901.000000</td>\n",
       "      <td>27901.000000</td>\n",
       "      <td>27901.000000</td>\n",
       "      <td>27901.000000</td>\n",
       "      <td>27901.000000</td>\n",
       "      <td>27898.000000</td>\n",
       "      <td>27901.000000</td>\n",
       "    </tr>\n",
       "    <tr>\n",
       "      <th>mean</th>\n",
       "      <td>70442.149421</td>\n",
       "      <td>25.822300</td>\n",
       "      <td>3.141214</td>\n",
       "      <td>0.000430</td>\n",
       "      <td>7.656104</td>\n",
       "      <td>2.943837</td>\n",
       "      <td>0.000681</td>\n",
       "      <td>7.156984</td>\n",
       "      <td>3.139867</td>\n",
       "      <td>0.585499</td>\n",
       "    </tr>\n",
       "    <tr>\n",
       "      <th>std</th>\n",
       "      <td>40641.175216</td>\n",
       "      <td>4.905687</td>\n",
       "      <td>1.381465</td>\n",
       "      <td>0.043992</td>\n",
       "      <td>1.470707</td>\n",
       "      <td>1.361148</td>\n",
       "      <td>0.044394</td>\n",
       "      <td>3.707642</td>\n",
       "      <td>1.437347</td>\n",
       "      <td>0.492645</td>\n",
       "    </tr>\n",
       "    <tr>\n",
       "      <th>min</th>\n",
       "      <td>2.000000</td>\n",
       "      <td>18.000000</td>\n",
       "      <td>0.000000</td>\n",
       "      <td>0.000000</td>\n",
       "      <td>0.000000</td>\n",
       "      <td>0.000000</td>\n",
       "      <td>0.000000</td>\n",
       "      <td>0.000000</td>\n",
       "      <td>1.000000</td>\n",
       "      <td>0.000000</td>\n",
       "    </tr>\n",
       "    <tr>\n",
       "      <th>25%</th>\n",
       "      <td>35039.000000</td>\n",
       "      <td>21.000000</td>\n",
       "      <td>2.000000</td>\n",
       "      <td>0.000000</td>\n",
       "      <td>6.290000</td>\n",
       "      <td>2.000000</td>\n",
       "      <td>0.000000</td>\n",
       "      <td>4.000000</td>\n",
       "      <td>2.000000</td>\n",
       "      <td>0.000000</td>\n",
       "    </tr>\n",
       "    <tr>\n",
       "      <th>50%</th>\n",
       "      <td>70684.000000</td>\n",
       "      <td>25.000000</td>\n",
       "      <td>3.000000</td>\n",
       "      <td>0.000000</td>\n",
       "      <td>7.770000</td>\n",
       "      <td>3.000000</td>\n",
       "      <td>0.000000</td>\n",
       "      <td>8.000000</td>\n",
       "      <td>3.000000</td>\n",
       "      <td>1.000000</td>\n",
       "    </tr>\n",
       "    <tr>\n",
       "      <th>75%</th>\n",
       "      <td>105818.000000</td>\n",
       "      <td>30.000000</td>\n",
       "      <td>4.000000</td>\n",
       "      <td>0.000000</td>\n",
       "      <td>8.920000</td>\n",
       "      <td>4.000000</td>\n",
       "      <td>0.000000</td>\n",
       "      <td>10.000000</td>\n",
       "      <td>4.000000</td>\n",
       "      <td>1.000000</td>\n",
       "    </tr>\n",
       "    <tr>\n",
       "      <th>max</th>\n",
       "      <td>140699.000000</td>\n",
       "      <td>59.000000</td>\n",
       "      <td>5.000000</td>\n",
       "      <td>5.000000</td>\n",
       "      <td>10.000000</td>\n",
       "      <td>5.000000</td>\n",
       "      <td>4.000000</td>\n",
       "      <td>12.000000</td>\n",
       "      <td>5.000000</td>\n",
       "      <td>1.000000</td>\n",
       "    </tr>\n",
       "  </tbody>\n",
       "</table>\n",
       "</div>"
      ],
      "text/plain": [
       "                  id           Age  Academic Pressure  Work Pressure  \\\n",
       "count   27901.000000  27901.000000       27901.000000   27901.000000   \n",
       "mean    70442.149421     25.822300           3.141214       0.000430   \n",
       "std     40641.175216      4.905687           1.381465       0.043992   \n",
       "min         2.000000     18.000000           0.000000       0.000000   \n",
       "25%     35039.000000     21.000000           2.000000       0.000000   \n",
       "50%     70684.000000     25.000000           3.000000       0.000000   \n",
       "75%    105818.000000     30.000000           4.000000       0.000000   \n",
       "max    140699.000000     59.000000           5.000000       5.000000   \n",
       "\n",
       "               CGPA  Study Satisfaction  Job Satisfaction  Work/Study Hours  \\\n",
       "count  27901.000000        27901.000000      27901.000000      27901.000000   \n",
       "mean       7.656104            2.943837          0.000681          7.156984   \n",
       "std        1.470707            1.361148          0.044394          3.707642   \n",
       "min        0.000000            0.000000          0.000000          0.000000   \n",
       "25%        6.290000            2.000000          0.000000          4.000000   \n",
       "50%        7.770000            3.000000          0.000000          8.000000   \n",
       "75%        8.920000            4.000000          0.000000         10.000000   \n",
       "max       10.000000            5.000000          4.000000         12.000000   \n",
       "\n",
       "       Financial Stress    Depression  \n",
       "count      27898.000000  27901.000000  \n",
       "mean           3.139867      0.585499  \n",
       "std            1.437347      0.492645  \n",
       "min            1.000000      0.000000  \n",
       "25%            2.000000      0.000000  \n",
       "50%            3.000000      1.000000  \n",
       "75%            4.000000      1.000000  \n",
       "max            5.000000      1.000000  "
      ]
     },
     "execution_count": 8,
     "metadata": {},
     "output_type": "execute_result"
    }
   ],
   "source": [
    "df.describe()\n",
    "\n"
   ]
  },
  {
   "cell_type": "code",
   "execution_count": 10,
   "id": "439f2344-c7c4-4235-8e15-9067fa58b57b",
   "metadata": {},
   "outputs": [
    {
     "name": "stdout",
     "output_type": "stream",
     "text": [
      "[2 'Male' 33.0 'Visakhapatnam' 'Student' 5.0 0.0 8.97 2.0 0.0 '5-6 hours'\n",
      " 'Healthy' 'B.Pharm' 'Yes' 3.0 1.0 'No' 1]\n"
     ]
    }
   ],
   "source": [
    "print(data[0])\n"
   ]
  },
  {
   "cell_type": "code",
   "execution_count": 11,
   "id": "d3daa9f8-985a-4264-94ae-61500ebac6cb",
   "metadata": {},
   "outputs": [
    {
     "name": "stdout",
     "output_type": "stream",
     "text": [
      "[2 8 26 ... 140689 140690 140699]\n"
     ]
    }
   ],
   "source": [
    "print(data[:, 0])"
   ]
  },
  {
   "cell_type": "code",
   "execution_count": 12,
   "id": "d34aaa86-cf90-4fb8-b104-0fa39bde0640",
   "metadata": {},
   "outputs": [
    {
     "name": "stdout",
     "output_type": "stream",
     "text": [
      "[]\n"
     ]
    }
   ],
   "source": [
    "severe_cases = data[data[:, 5] == 'Severe']\n",
    "print(severe_cases)\n",
    "\n"
   ]
  },
  {
   "cell_type": "code",
   "execution_count": 13,
   "id": "28e8dc90-7b1b-48b7-8014-9bfd644574e6",
   "metadata": {},
   "outputs": [
    {
     "name": "stdout",
     "output_type": "stream",
     "text": [
      "Average CGPA: 7.65610417189348\n"
     ]
    }
   ],
   "source": [
    "cgpa = df['CGPA'].to_numpy()\n",
    "print(\"Average CGPA:\", np.mean(cgpa))\n"
   ]
  },
  {
   "cell_type": "code",
   "execution_count": 14,
   "id": "15086632-ab9c-4279-9ac0-cf55e42d081b",
   "metadata": {},
   "outputs": [
    {
     "name": "stdout",
     "output_type": "stream",
     "text": [
      "Number of depressed students: 16336\n",
      "Number of non-depressed students: 11565\n"
     ]
    }
   ],
   "source": [
    "depressed = df[df['Depression'] == 1]\n",
    "non_depressed = df[df['Depression'] == 0]\n",
    "\n",
    "print(\"Number of depressed students:\", len(depressed))\n",
    "print(\"Number of non-depressed students:\", len(non_depressed))\n"
   ]
  },
  {
   "cell_type": "code",
   "execution_count": 2,
   "id": "4b791385-ddfa-4551-8b66-94948b5be94d",
   "metadata": {},
   "outputs": [
    {
     "ename": "NameError",
     "evalue": "name 'df' is not defined",
     "output_type": "error",
     "traceback": [
      "\u001b[31m---------------------------------------------------------------------------\u001b[39m",
      "\u001b[31mNameError\u001b[39m                                 Traceback (most recent call last)",
      "\u001b[36mCell\u001b[39m\u001b[36m \u001b[39m\u001b[32mIn[2]\u001b[39m\u001b[32m, line 4\u001b[39m\n\u001b[32m      1\u001b[39m \u001b[38;5;28;01mimport\u001b[39;00m\u001b[38;5;250m \u001b[39m\u001b[34;01mseaborn\u001b[39;00m\u001b[38;5;250m \u001b[39m\u001b[38;5;28;01mas\u001b[39;00m\u001b[38;5;250m \u001b[39m\u001b[34;01msns\u001b[39;00m\n\u001b[32m      2\u001b[39m \u001b[38;5;28;01mimport\u001b[39;00m\u001b[38;5;250m \u001b[39m\u001b[34;01mmatplotlib\u001b[39;00m\u001b[34;01m.\u001b[39;00m\u001b[34;01mpyplot\u001b[39;00m\u001b[38;5;250m \u001b[39m\u001b[38;5;28;01mas\u001b[39;00m\u001b[38;5;250m \u001b[39m\u001b[34;01mplt\u001b[39;00m\n\u001b[32m----> \u001b[39m\u001b[32m4\u001b[39m sns.countplot(x=\u001b[33m'\u001b[39m\u001b[33mDepression\u001b[39m\u001b[33m'\u001b[39m, data=\u001b[43mdf\u001b[49m)\n\u001b[32m      5\u001b[39m plt.title(\u001b[33m\"\u001b[39m\u001b[33mDepression Distribution (0 = No, 1 = Yes)\u001b[39m\u001b[33m\"\u001b[39m)\n\u001b[32m      6\u001b[39m plt.show()\n",
      "\u001b[31mNameError\u001b[39m: name 'df' is not defined"
     ]
    }
   ],
   "source": [
    "import seaborn as sns\n",
    "import matplotlib.pyplot as plt\n",
    "\n",
    "sns.countplot(x='Depression', data=df)\n",
    "plt.title(\"Depression Distribution (0 = No, 1 = Yes)\")\n",
    "plt.show()\n"
   ]
  },
  {
   "cell_type": "code",
   "execution_count": 5,
   "id": "75dd4ead-d3ec-4c62-9f23-c54df1ad730a",
   "metadata": {},
   "outputs": [
    {
     "data": {
      "image/png": "[encoded data removed]",
      "text/plain": [
       "<Figure size 640x480 with 1 Axes>"
      ]
     },
     "metadata": {},
     "output_type": "display_data"
    }
   ],
   "source": [
    "import seaborn as sns\n",
    "import matplotlib.pyplot as plt\n",
    "\n",
    "sns.countplot(x='Depression', data=df)\n",
    "plt.title(\"Depression Distribution (0 = No, 1 = Yes)\")\n",
    "plt.show()\n"
   ]
  },
  {
   "cell_type": "code",
   "execution_count": 9,
   "id": "7fae25ed-59e3-4f22-b3ce-be755d1c7c8b",
   "metadata": {},
   "outputs": [
    {
     "name": "stdout",
     "output_type": "stream",
     "text": [
      "Average CGPA: 7.65610417189348\n",
      "Highest CGPA: 10.0\n",
      "Lowest CGPA: 0.0\n"
     ]
    }
   ],
   "source": [
    "import numpy as np\n",
    "cgpa = df['CGPA'].to_numpy()\n",
    "print(\"Average CGPA:\", np.mean(cgpa))\n",
    "print(\"Highest CGPA:\", np.max(cgpa))\n",
    "print(\"Lowest CGPA:\", np.min(cgpa))\n"
   ]
  },
  {
   "cell_type": "code",
   "execution_count": 10,
   "id": "3c3cd649-7842-439c-b5dd-01409dc03975",
   "metadata": {},
   "outputs": [
    {
     "name": "stdout",
     "output_type": "stream",
     "text": [
      "Average Sleep: 3.1934876886133114\n"
     ]
    }
   ],
   "source": [
    "def convert_sleep(x):\n",
    "    if isinstance(x, str) and '-' in x:\n",
    "        parts = x.replace(\" hours\", \"\").split('-')\n",
    "        return (float(parts[0]) + float(parts[1])) / 2\n",
    "    return 0\n",
    "\n",
    "df['Sleep Hours'] = df['Sleep Duration'].apply(convert_sleep)\n",
    "\n",
    "print(\"Average Sleep:\", np.mean(df['Sleep Hours']))\n"
   ]
  },
  {
   "cell_type": "code",
   "execution_count": 11,
   "id": "fbad3365-b34c-4dd4-be7c-41278d359447",
   "metadata": {},
   "outputs": [
    {
     "ename": "InvalidIndexError",
     "evalue": "(slice(None, None, None), 5)",
     "output_type": "error",
     "traceback": [
      "\u001b[31m---------------------------------------------------------------------------\u001b[39m",
      "\u001b[31mKeyError\u001b[39m                                  Traceback (most recent call last)",
      "\u001b[36mFile \u001b[39m\u001b[32m~\\AppData\\Local\\Programs\\Python\\Python312\\Lib\\site-packages\\pandas\\core\\indexes\\base.py:3805\u001b[39m, in \u001b[36mIndex.get_loc\u001b[39m\u001b[34m(self, key)\u001b[39m\n\u001b[32m   3804\u001b[39m \u001b[38;5;28;01mtry\u001b[39;00m:\n\u001b[32m-> \u001b[39m\u001b[32m3805\u001b[39m     \u001b[38;5;28;01mreturn\u001b[39;00m \u001b[38;5;28;43mself\u001b[39;49m\u001b[43m.\u001b[49m\u001b[43m_engine\u001b[49m\u001b[43m.\u001b[49m\u001b[43mget_loc\u001b[49m\u001b[43m(\u001b[49m\u001b[43mcasted_key\u001b[49m\u001b[43m)\u001b[49m\n\u001b[32m   3806\u001b[39m \u001b[38;5;28;01mexcept\u001b[39;00m \u001b[38;5;167;01mKeyError\u001b[39;00m \u001b[38;5;28;01mas\u001b[39;00m err:\n",
      "\u001b[36mFile \u001b[39m\u001b[32mindex.pyx:167\u001b[39m, in \u001b[36mpandas._libs.index.IndexEngine.get_loc\u001b[39m\u001b[34m()\u001b[39m\n",
      "\u001b[36mFile \u001b[39m\u001b[32mindex.pyx:196\u001b[39m, in \u001b[36mpandas._libs.index.IndexEngine.get_loc\u001b[39m\u001b[34m()\u001b[39m\n",
      "\u001b[36mFile \u001b[39m\u001b[32mpandas\\\\_libs\\\\hashtable_class_helper.pxi:7081\u001b[39m, in \u001b[36mpandas._libs.hashtable.PyObjectHashTable.get_item\u001b[39m\u001b[34m()\u001b[39m\n",
      "\u001b[36mFile \u001b[39m\u001b[32mpandas\\\\_libs\\\\hashtable_class_helper.pxi:7089\u001b[39m, in \u001b[36mpandas._libs.hashtable.PyObjectHashTable.get_item\u001b[39m\u001b[34m()\u001b[39m\n",
      "\u001b[31mKeyError\u001b[39m: (slice(None, None, None), 5)",
      "\nDuring handling of the above exception, another exception occurred:\n",
      "\u001b[31mInvalidIndexError\u001b[39m                         Traceback (most recent call last)",
      "\u001b[36mCell\u001b[39m\u001b[36m \u001b[39m\u001b[32mIn[11]\u001b[39m\u001b[32m, line 1\u001b[39m\n\u001b[32m----> \u001b[39m\u001b[32m1\u001b[39m levels = \u001b[43mdf\u001b[49m\u001b[43m[\u001b[49m\u001b[43m:\u001b[49m\u001b[43m,\u001b[49m\u001b[43m \u001b[49m\u001b[32;43m5\u001b[39;49m\u001b[43m]\u001b[49m  \u001b[38;5;66;03m# assume this is the depression level column\u001b[39;00m\n\u001b[32m      2\u001b[39m unique, counts = np.unique(levels, return_counts=\u001b[38;5;28;01mTrue\u001b[39;00m)\n\u001b[32m      3\u001b[39m \u001b[38;5;28mprint\u001b[39m(\u001b[38;5;28mdict\u001b[39m(\u001b[38;5;28mzip\u001b[39m(unique, counts)))\n",
      "\u001b[36mFile \u001b[39m\u001b[32m~\\AppData\\Local\\Programs\\Python\\Python312\\Lib\\site-packages\\pandas\\core\\frame.py:4102\u001b[39m, in \u001b[36mDataFrame.__getitem__\u001b[39m\u001b[34m(self, key)\u001b[39m\n\u001b[32m   4100\u001b[39m \u001b[38;5;28;01mif\u001b[39;00m \u001b[38;5;28mself\u001b[39m.columns.nlevels > \u001b[32m1\u001b[39m:\n\u001b[32m   4101\u001b[39m     \u001b[38;5;28;01mreturn\u001b[39;00m \u001b[38;5;28mself\u001b[39m._getitem_multilevel(key)\n\u001b[32m-> \u001b[39m\u001b[32m4102\u001b[39m indexer = \u001b[38;5;28;43mself\u001b[39;49m\u001b[43m.\u001b[49m\u001b[43mcolumns\u001b[49m\u001b[43m.\u001b[49m\u001b[43mget_loc\u001b[49m\u001b[43m(\u001b[49m\u001b[43mkey\u001b[49m\u001b[43m)\u001b[49m\n\u001b[32m   4103\u001b[39m \u001b[38;5;28;01mif\u001b[39;00m is_integer(indexer):\n\u001b[32m   4104\u001b[39m     indexer = [indexer]\n",
      "\u001b[36mFile \u001b[39m\u001b[32m~\\AppData\\Local\\Programs\\Python\\Python312\\Lib\\site-packages\\pandas\\core\\indexes\\base.py:3811\u001b[39m, in \u001b[36mIndex.get_loc\u001b[39m\u001b[34m(self, key)\u001b[39m\n\u001b[32m   3806\u001b[39m \u001b[38;5;28;01mexcept\u001b[39;00m \u001b[38;5;167;01mKeyError\u001b[39;00m \u001b[38;5;28;01mas\u001b[39;00m err:\n\u001b[32m   3807\u001b[39m     \u001b[38;5;28;01mif\u001b[39;00m \u001b[38;5;28misinstance\u001b[39m(casted_key, \u001b[38;5;28mslice\u001b[39m) \u001b[38;5;129;01mor\u001b[39;00m (\n\u001b[32m   3808\u001b[39m         \u001b[38;5;28misinstance\u001b[39m(casted_key, abc.Iterable)\n\u001b[32m   3809\u001b[39m         \u001b[38;5;129;01mand\u001b[39;00m \u001b[38;5;28many\u001b[39m(\u001b[38;5;28misinstance\u001b[39m(x, \u001b[38;5;28mslice\u001b[39m) \u001b[38;5;28;01mfor\u001b[39;00m x \u001b[38;5;129;01min\u001b[39;00m casted_key)\n\u001b[32m   3810\u001b[39m     ):\n\u001b[32m-> \u001b[39m\u001b[32m3811\u001b[39m         \u001b[38;5;28;01mraise\u001b[39;00m InvalidIndexError(key)\n\u001b[32m   3812\u001b[39m     \u001b[38;5;28;01mraise\u001b[39;00m \u001b[38;5;167;01mKeyError\u001b[39;00m(key) \u001b[38;5;28;01mfrom\u001b[39;00m\u001b[38;5;250m \u001b[39m\u001b[34;01merr\u001b[39;00m\n\u001b[32m   3813\u001b[39m \u001b[38;5;28;01mexcept\u001b[39;00m \u001b[38;5;167;01mTypeError\u001b[39;00m:\n\u001b[32m   3814\u001b[39m     \u001b[38;5;66;03m# If we have a listlike key, _check_indexing_error will raise\u001b[39;00m\n\u001b[32m   3815\u001b[39m     \u001b[38;5;66;03m#  InvalidIndexError. Otherwise we fall through and re-raise\u001b[39;00m\n\u001b[32m   3816\u001b[39m     \u001b[38;5;66;03m#  the TypeError.\u001b[39;00m\n",
      "\u001b[31mInvalidIndexError\u001b[39m: (slice(None, None, None), 5)"
     ]
    }
   ],
   "source": [
    "levels = df[:, 5]  # assume this is the depression level column\n",
    "unique, counts = np.unique(levels, return_counts=True)\n",
    "print(dict(zip(unique, counts)))\n"
   ]
  },
  {
   "cell_type": "code",
   "execution_count": 14,
   "id": "d9211d85-7a90-4b3e-a260-b7b017a70050",
   "metadata": {},
   "outputs": [
    {
     "name": "stdout",
     "output_type": "stream",
     "text": [
      "CGPA Std Dev: 1.4706809901536324\n",
      "CGPA Variance: 2.1629025747992685\n"
     ]
    }
   ],
   "source": [
    "import numpy as np\n",
    "\n",
    "cgpa = df['CGPA'].to_numpy()\n",
    "\n",
    "print(\"CGPA Std Dev:\", np.std(cgpa))\n",
    "print(\"CGPA Variance:\", np.var(cgpa))\n"
   ]
  },
  {
   "cell_type": "code",
   "execution_count": 15,
   "id": "b213baef-2330-4e28-9e09-71ad9128a023",
   "metadata": {},
   "outputs": [
    {
     "name": "stdout",
     "output_type": "stream",
     "text": [
      "{0: 11565, 1: 16336}\n"
     ]
    }
   ],
   "source": [
    "import numpy as np\n",
    "\n",
    "# Access the 'Depression' column\n",
    "levels = df['Depression']\n",
    "\n",
    "# Use numpy to count unique values\n",
    "unique, counts = np.unique(levels, return_counts=True)\n",
    "\n",
    "# Display as a dictionary\n",
    "print(dict(zip(unique, counts)))\n",
    "\n"
   ]
  },
  {
   "cell_type": "code",
   "execution_count": 16,
   "id": "8e0c3d2f-598f-4ebb-9946-b2909b98dfb1",
   "metadata": {},
   "outputs": [
    {
     "name": "stdout",
     "output_type": "stream",
     "text": [
      "Depression\n",
      "1    16336\n",
      "0    11565\n",
      "Name: count, dtype: int64\n"
     ]
    }
   ],
   "source": [
    "print(df['Depression'].value_counts())\n"
   ]
  },
  {
   "cell_type": "code",
   "execution_count": 17,
   "id": "e3f65f4b-1f35-4ecc-8db5-1827a4d7624d",
   "metadata": {},
   "outputs": [
    {
     "data": {
      "image/png": "[encoded data removed]",
      "text/plain": [
       "<Figure size 600x600 with 1 Axes>"
      ]
     },
     "metadata": {},
     "output_type": "display_data"
    }
   ],
   "source": [
    "import matplotlib.pyplot as plt\n",
    "\n",
    "# Count values\n",
    "depression_counts = df['Depression'].value_counts()\n",
    "\n",
    "# Labels for the pie chart\n",
    "labels = ['Not Depressed (0)', 'Depressed (1)']\n",
    "\n",
    "# Create the pie chart\n",
    "plt.figure(figsize=(6,6))\n",
    "plt.pie(depression_counts, labels=labels, autopct='%1.1f%%', startangle=90, colors=['#8fd9a8', '#ff9999'])\n",
    "plt.title(\"Depression Distribution Among Students\")\n",
    "plt.axis('equal')  # Equal aspect ratio makes the pie a circle\n",
    "plt.show()\n"
   ]
  },
  {
   "cell_type": "code",
   "execution_count": 18,
   "id": "02a6c041-7de5-4caa-9506-333d7821fa7d",
   "metadata": {},
   "outputs": [
    {
     "name": "stdout",
     "output_type": "stream",
     "text": [
      "Average CGPA by Gender and Depression Level:\n",
      "Depression                     0         1\n",
      "Profession                                \n",
      "Architect               7.280000  7.880000\n",
      "Chef                         NaN  8.385000\n",
      "Civil Engineer               NaN  7.830000\n",
      "Content Writer               NaN  7.665000\n",
      "Digital Marketer        9.410000  8.315000\n",
      "Doctor                       NaN  8.025000\n",
      "Educational Consultant       NaN  5.740000\n",
      "Entrepreneur                 NaN  8.170000\n",
      "Lawyer                       NaN  6.880000\n",
      "Manager                      NaN  8.620000\n",
      "Pharmacist                   NaN  7.155000\n",
      "Student                 7.617312  7.683476\n",
      "Teacher                 5.820000  7.174000\n",
      "UX/UI Designer               NaN  9.600000\n"
     ]
    }
   ],
   "source": [
    "pivot = pd.pivot_table(df, \n",
    "                       index='Profession',     # Male / Female\n",
    "                       columns='Depression',   # 0 or 1\n",
    "                       values='CGPA', \n",
    "                       aggfunc='mean')\n",
    "\n",
    "print(\"Average CGPA by Gender and Depression Level:\")\n",
    "print(pivot)\n"
   ]
  },
  {
   "cell_type": "code",
   "execution_count": 19,
   "id": "783b0d95-eb0b-41c8-abc5-12215141261a",
   "metadata": {},
   "outputs": [
    {
     "data": {
      "image/png": "[encoded data removed]",
      "text/plain": [
       "<Figure size 800x400 with 1 Axes>"
      ]
     },
     "metadata": {},
     "output_type": "display_data"
    }
   ],
   "source": [
    "plt.figure(figsize=(8, 4))\n",
    "plt.hist(df['CGPA'], bins=10, color='skyblue', edgecolor='black')\n",
    "plt.title('CGPA Distribution of Students')\n",
    "plt.xlabel('CGPA')\n",
    "plt.ylabel('Count')\n",
    "plt.show()\n"
   ]
  },
  {
   "cell_type": "code",
   "execution_count": 20,
   "id": "9fd955cb-1617-42c3-be42-479f24a3a118",
   "metadata": {},
   "outputs": [
    {
     "data": {
      "image/png": "[encoded data removed]",
      "text/plain": [
       "<Figure size 800x400 with 1 Axes>"
      ]
     },
     "metadata": {},
     "output_type": "display_data"
    }
   ],
   "source": [
    "plt.figure(figsize=(8, 4))\n",
    "sns.countplot(x='Profession', hue='Depression', data=df, palette='Set2')\n",
    "plt.title('Depression Count by Gender')\n",
    "plt.xlabel('Gender')\n",
    "plt.ylabel('Count')\n",
    "plt.legend(title='Depression (0=No, 1=Yes)')\n",
    "plt.show()\n"
   ]
  },
  {
   "cell_type": "code",
   "execution_count": 21,
   "id": "b6409f00-f70b-4efc-adb1-022af653b354",
   "metadata": {},
   "outputs": [
    {
     "data": {
      "image/png": "[encoded data removed]",
      "text/plain": [
       "<Figure size 800x400 with 1 Axes>"
      ]
     },
     "metadata": {},
     "output_type": "display_data"
    }
   ],
   "source": [
    "plt.figure(figsize=(8, 4))\n",
    "sns.scatterplot(x='Academic Pressure', y='CGPA', hue='Depression', data=df, palette='coolwarm')\n",
    "plt.title('Academic Pressure vs CGPA (Colored by Depression)')\n",
    "plt.xlabel('Academic Pressure')\n",
    "plt.ylabel('CGPA')\n",
    "plt.show()\n"
   ]
  },
  {
   "cell_type": "code",
   "execution_count": 22,
   "id": "e830598a-36cd-4cd7-bdc0-565f60b3f568",
   "metadata": {},
   "outputs": [
    {
     "name": "stderr",
     "output_type": "stream",
     "text": [
      "C:\\Users\\saite\\AppData\\Local\\Temp\\ipykernel_8412\\1375532556.py:2: FutureWarning: \n",
      "\n",
      "Passing `palette` without assigning `hue` is deprecated and will be removed in v0.14.0. Assign the `x` variable to `hue` and set `legend=False` for the same effect.\n",
      "\n",
      "  sns.boxplot(x='Depression', y='CGPA', data=df, palette='pastel')\n"
     ]
    },
    {
     "data": {
      "image/png": "[encoded data removed]",
      "text/plain": [
       "<Figure size 800x400 with 1 Axes>"
      ]
     },
     "metadata": {},
     "output_type": "display_data"
    }
   ],
   "source": [
    "plt.figure(figsize=(8, 4))\n",
    "sns.boxplot(x='Depression', y='CGPA', data=df, palette='pastel')\n",
    "plt.title('CGPA Distribution by Depression Level')\n",
    "plt.xlabel('Depression (0=No, 1=Yes)')\n",
    "plt.ylabel('CGPA')\n",
    "plt.show()\n"
   ]
  },
  {
   "cell_type": "code",
   "execution_count": 23,
   "id": "5ae29e42-4dba-49bf-9620-c47fff48d18b",
   "metadata": {},
   "outputs": [
    {
     "name": "stdout",
     "output_type": "stream",
     "text": [
      "   CGPA  CGPA_zscore\n",
      "0  8.97     0.893393\n",
      "1  5.90    -1.194076\n",
      "2  7.03    -0.425724\n",
      "3  5.59    -1.404862\n",
      "4  8.13     0.322229\n"
     ]
    }
   ],
   "source": [
    "import numpy as np\n",
    "\n",
    "cgpa_mean = np.mean(df['CGPA'])\n",
    "cgpa_std = np.std(df['CGPA'])\n",
    "df['CGPA_zscore'] = (df['CGPA'] - cgpa_mean) / cgpa_std\n",
    "\n",
    "print(df[['CGPA', 'CGPA_zscore']].head())\n"
   ]
  },
  {
   "cell_type": "code",
   "execution_count": 24,
   "id": "953d86ea-40a4-469f-bea2-fff1f3b29a61",
   "metadata": {},
   "outputs": [
    {
     "name": "stdout",
     "output_type": "stream",
     "text": [
      "Number of students with CGPA between 6 and 8: 9921\n"
     ]
    }
   ],
   "source": [
    "cgpas = df['CGPA'].values\n",
    "mid_range_students = df[np.logical_and(cgpas >= 6.0, cgpas <= 8.0)]\n",
    "\n",
    "print(\"Number of students with CGPA between 6 and 8:\", len(mid_range_students))\n"
   ]
  },
  {
   "cell_type": "code",
   "execution_count": 25,
   "id": "61928afe-1f8c-44bb-996c-8d5b117dcf2b",
   "metadata": {},
   "outputs": [
    {
     "name": "stdout",
     "output_type": "stream",
     "text": [
      "Average CGPA by City (Pivot Table):\n",
      "                         CGPA\n",
      "City                        \n",
      "3.0                 8.690000\n",
      "Agra                7.759644\n",
      "Ahmedabad           7.817928\n",
      "Bangalore           7.818879\n",
      "Bhavna              7.885000\n",
      "Bhopal              7.850225\n",
      "Chennai             7.562814\n",
      "City                8.035000\n",
      "Delhi               7.481667\n",
      "Faridabad           8.004577\n",
      "Gaurav              9.440000\n",
      "Ghaziabad           7.626711\n",
      "Harsh               5.120000\n",
      "Harsha              7.655000\n",
      "Hyderabad           7.952478\n",
      "Indore              7.675334\n",
      "Jaipur              7.520048\n",
      "Kalyan              7.561070\n",
      "Kanpur              7.607176\n",
      "Khaziabad           8.170000\n",
      "Kibara              7.270000\n",
      "Kolkata             7.812242\n",
      "Less Delhi          7.040000\n",
      "Less than 5 Kalyan  7.210000\n",
      "Lucknow             7.561100\n",
      "Ludhiana            7.342025\n",
      "M.Com               8.950000\n",
      "M.Tech              7.040000\n",
      "ME                  6.000000\n",
      "Meerut              7.655879\n",
      "Mihir               9.100000\n",
      "Mira                9.210000\n",
      "Mumbai              7.643290\n",
      "Nagpur              7.588464\n",
      "Nalini              8.960000\n",
      "Nalyan              8.080000\n",
      "Nandini             6.520000\n",
      "Nashik              7.723967\n",
      "Patna               7.697984\n",
      "Pune                7.432035\n",
      "Rajkot              7.681544\n",
      "Rashi               6.360000\n",
      "Reyansh             8.000000\n",
      "Saanvi              8.610000\n",
      "Srinagar            7.812159\n",
      "Surat               7.536382\n",
      "Thane               7.707831\n",
      "Vaanya              9.790000\n",
      "Vadodara            7.434798\n",
      "Varanasi            7.650161\n",
      "Vasai-Virar         7.610814\n",
      "Visakhapatnam       7.597296\n",
      "\n",
      "Average CGPA by City (GroupBy):\n",
      " City\n",
      "3.0                   8.690000\n",
      "Agra                  7.759644\n",
      "Ahmedabad             7.817928\n",
      "Bangalore             7.818879\n",
      "Bhavna                7.885000\n",
      "Bhopal                7.850225\n",
      "Chennai               7.562814\n",
      "City                  8.035000\n",
      "Delhi                 7.481667\n",
      "Faridabad             8.004577\n",
      "Gaurav                9.440000\n",
      "Ghaziabad             7.626711\n",
      "Harsh                 5.120000\n",
      "Harsha                7.655000\n",
      "Hyderabad             7.952478\n",
      "Indore                7.675334\n",
      "Jaipur                7.520048\n",
      "Kalyan                7.561070\n",
      "Kanpur                7.607176\n",
      "Khaziabad             8.170000\n",
      "Kibara                7.270000\n",
      "Kolkata               7.812242\n",
      "Less Delhi            7.040000\n",
      "Less than 5 Kalyan    7.210000\n",
      "Lucknow               7.561100\n",
      "Ludhiana              7.342025\n",
      "M.Com                 8.950000\n",
      "M.Tech                7.040000\n",
      "ME                    6.000000\n",
      "Meerut                7.655879\n",
      "Mihir                 9.100000\n",
      "Mira                  9.210000\n",
      "Mumbai                7.643290\n",
      "Nagpur                7.588464\n",
      "Nalini                8.960000\n",
      "Nalyan                8.080000\n",
      "Nandini               6.520000\n",
      "Nashik                7.723967\n",
      "Patna                 7.697984\n",
      "Pune                  7.432035\n",
      "Rajkot                7.681544\n",
      "Rashi                 6.360000\n",
      "Reyansh               8.000000\n",
      "Saanvi                8.610000\n",
      "Srinagar              7.812159\n",
      "Surat                 7.536382\n",
      "Thane                 7.707831\n",
      "Vaanya                9.790000\n",
      "Vadodara              7.434798\n",
      "Varanasi              7.650161\n",
      "Vasai-Virar           7.610814\n",
      "Visakhapatnam         7.597296\n",
      "Name: CGPA, dtype: float64\n"
     ]
    }
   ],
   "source": [
    "# Pivot Table\n",
    "pivot1 = pd.pivot_table(df, index='City', values='CGPA', aggfunc='mean')\n",
    "print(\"Average CGPA by City (Pivot Table):\\n\", pivot1)\n",
    "\n",
    "# GroupBy equivalent\n",
    "group1 = df.groupby('City')['CGPA'].mean()\n",
    "print(\"\\nAverage CGPA by City (GroupBy):\\n\", group1)\n"
   ]
  },
  {
   "cell_type": "code",
   "execution_count": 26,
   "id": "56ea105a-7466-4ec2-95f3-edc5e2d6ba4c",
   "metadata": {},
   "outputs": [],
   "source": [
    "# Convert \"5-6 hours\" to numeric (take average)\n",
    "df['Sleep Hours'] = df['Sleep Duration'].str.extract(r'(\\d+)-(\\d+)').astype(float).mean(axis=1)\n"
   ]
  },
  {
   "cell_type": "code",
   "execution_count": 27,
   "id": "78e10868-a43e-42bc-9892-b8743eb657e6",
   "metadata": {},
   "outputs": [
    {
     "name": "stdout",
     "output_type": "stream",
     "text": [
      "Avg Sleep Hours by Gender & Depression (Pivot Table):\n",
      " Depression                     0         1\n",
      "Profession                                \n",
      "Architect                    NaN  6.500000\n",
      "Chef                         NaN  7.500000\n",
      "Civil Engineer               NaN  5.500000\n",
      "Content Writer               NaN  6.500000\n",
      "Digital Marketer        5.500000       NaN\n",
      "Educational Consultant       NaN  7.500000\n",
      "Pharmacist                   NaN  7.500000\n",
      "Student                 6.555152  6.607810\n",
      "Teacher                 5.500000  6.833333\n",
      "UX/UI Designer               NaN  7.500000\n",
      "\n",
      "Avg Sleep Hours by Gender & Depression (GroupBy):\n",
      " Depression                     0         1\n",
      "Profession                                \n",
      "Architect                    NaN  6.500000\n",
      "Chef                         NaN  7.500000\n",
      "Civil Engineer               NaN  5.500000\n",
      "Content Writer               NaN  6.500000\n",
      "Digital Marketer        5.500000       NaN\n",
      "Doctor                       NaN       NaN\n",
      "Educational Consultant       NaN  7.500000\n",
      "Entrepreneur                 NaN       NaN\n",
      "Lawyer                       NaN       NaN\n",
      "Manager                      NaN       NaN\n",
      "Pharmacist                   NaN  7.500000\n",
      "Student                 6.555152  6.607810\n",
      "Teacher                 5.500000  6.833333\n",
      "UX/UI Designer               NaN  7.500000\n"
     ]
    }
   ],
   "source": [
    "# Pivot Table\n",
    "pivot2 = pd.pivot_table(df, index='Profession', columns='Depression', values='Sleep Hours', aggfunc='mean')\n",
    "print(\"Avg Sleep Hours by Gender & Depression (Pivot Table):\\n\", pivot2)\n",
    "\n",
    "# GroupBy equivalent\n",
    "group2 = df.groupby(['Profession', 'Depression'])['Sleep Hours'].mean().unstack()\n",
    "print(\"\\nAvg Sleep Hours by Gender & Depression (GroupBy):\\n\", group2)\n"
   ]
  },
  {
   "cell_type": "code",
   "execution_count": null,
   "id": "19e3f7ff-b1f1-4062-8990-179f3578b63c",
   "metadata": {},
   "outputs": [],
   "source": []
  }
 ],
 "metadata": {
  "kernelspec": {
   "display_name": "Python 3 (ipykernel)",
   "language": "python",
   "name": "python3"
  },
  "language_info": {
   "codemirror_mode": {
    "name": "ipython",
    "version": 3
   },
   "file_extension": ".py",
   "mimetype": "text/x-python",
   "name": "python",
   "nbconvert_exporter": "python",
   "pygments_lexer": "ipython3",
   "version": "3.12.2"
  }
 },
 "nbformat": 4,
 "nbformat_minor": 5
}
